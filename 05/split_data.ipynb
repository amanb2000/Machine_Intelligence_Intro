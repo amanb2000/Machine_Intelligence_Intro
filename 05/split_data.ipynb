{
 "metadata": {
  "language_info": {
   "codemirror_mode": {
    "name": "ipython",
    "version": 3
   },
   "file_extension": ".py",
   "mimetype": "text/x-python",
   "name": "python",
   "nbconvert_exporter": "python",
   "pygments_lexer": "ipython3",
   "version": "3.8.3-final"
  },
  "orig_nbformat": 2,
  "kernelspec": {
   "name": "python3",
   "display_name": "Python 3"
  }
 },
 "nbformat": 4,
 "nbformat_minor": 2,
 "cells": [
  {
   "source": [
    "# Splitting Data\n",
    "\n",
    "* `data.tsv`: Tab-separated-value file with two columns: `text`, `label`.\n",
    "    - `text` = string (including punctuation).\n",
    "    - `label` = binary value {0,1} -- 0 = objective, 1 = subjective.\n",
    "\n",
    "- [ ] Write a jupyter notebook `split_data.ipynb` to split data into 3 files:\n",
    "    - [ ] `train.tsv` -- 64% of the total data.\n",
    "    - [ ] `validation.tsv` -- 16% of the total data.\n",
    "    - [ ] `test.tsv` -- 20% of the data.\n",
    "- [ ] Ensuring that each subset is balanced.\n",
    "    - [ ] Print out the number of each class in each file. \n",
    "    - [ ] Provide numbers in report.\n",
    "- [ ] Create `overfit.tsv` -- 50 samples, equal class representation.\n"
   ],
   "cell_type": "markdown",
   "metadata": {}
  },
  {
   "cell_type": "code",
   "execution_count": 20,
   "metadata": {},
   "outputs": [],
   "source": [
    "import pandas as pd\n",
    "import numpy as np"
   ]
  },
  {
   "cell_type": "code",
   "execution_count": 21,
   "metadata": {},
   "outputs": [],
   "source": [
    "df = pd.read_csv('data/data.tsv', delimiter='\\t')"
   ]
  },
  {
   "cell_type": "code",
   "execution_count": 22,
   "metadata": {},
   "outputs": [],
   "source": [
    "df0 = df[df['label']==0]\n",
    "df1 = df[df['label']==1]"
   ]
  },
  {
   "cell_type": "code",
   "execution_count": 23,
   "metadata": {},
   "outputs": [
    {
     "output_type": "stream",
     "name": "stdout",
     "text": [
      "Length of df0: 5000\nLength of df1: 5000\n"
     ]
    }
   ],
   "source": [
    "print('Length of df0: {}'.format(len(df0)))\n",
    "print('Length of df1: {}'.format(len(df1)))"
   ]
  },
  {
   "cell_type": "code",
   "execution_count": 24,
   "metadata": {},
   "outputs": [],
   "source": [
    "def split_input_df(df, splits=[.64, .16, .20], random_seed=1234):\n",
    "    \"\"\"\n",
    "    Takes in a dataframe and a list of proportions to randomly split the data into.\n",
    "    Diversifies across df['label'] == 0, 1\n",
    "    \"\"\"\n",
    "    df0 = df[df['label']==0]\n",
    "    df1 = df[df['label']==1]\n",
    "\n",
    "    init_len = len(df0)\n",
    "\n",
    "    ret_dfs = []\n",
    "\n",
    "    for split in splits:\n",
    "        num_to_select = int(init_len*split)\n",
    "\n",
    "        selector = np.zeros(len(df0))\n",
    "        selector[:num_to_select] = 1\n",
    "\n",
    "        np.random.shuffle(selector)\n",
    "\n",
    "        df0_selected = df0[selector==1]\n",
    "        df0_remaining = df0[selector==0]\n",
    "\n",
    "        df1_selected = df1[selector==1]\n",
    "        df1_remaining = df1[selector==0]\n",
    "\n",
    "        pos_neg = [df0_selected, df1_selected] # Array to store the 'selected' dfs from the objective and subjective piles.\n",
    "\n",
    "        df1 = df1_remaining\n",
    "        df0 = df0_remaining\n",
    "\n",
    "        ret_dfs.append(pd.concat(pos_neg))\n",
    "    \n",
    "    return ret_dfs\n",
    "\n",
    "    "
   ]
  },
  {
   "cell_type": "code",
   "execution_count": 25,
   "metadata": {},
   "outputs": [],
   "source": [
    "train, valid, test = split_input_df(df, splits=[.64, .16, .20], random_seed=1234)\n",
    "train = train.sample(frac=1)\n",
    "valid = valid.sample(frac=1)\n",
    "test = test.sample(frac=1)\n"
   ]
  },
  {
   "cell_type": "code",
   "execution_count": 26,
   "metadata": {},
   "outputs": [],
   "source": [
    "# Saving Resultant Dataframes\n",
    "# train, valid, test\n",
    "\n",
    "train.to_csv('data/train.tsv', sep='\\t', index=False)\n",
    "\n",
    "valid.to_csv('data/valid.tsv', sep='\\t', index=False)\n",
    "\n",
    "test.to_csv('data/test.tsv', sep='\\t', index=False)\n"
   ]
  },
  {
   "cell_type": "code",
   "execution_count": 27,
   "metadata": {},
   "outputs": [],
   "source": [
    "# Getting overfitting thing.\n",
    "overfit = split_input_df(df, splits=[50/len(df)], random_seed=1234)\n",
    "overfit = overfit[0]"
   ]
  },
  {
   "cell_type": "code",
   "execution_count": 28,
   "metadata": {},
   "outputs": [],
   "source": [
    "overfit.to_csv('data/overfit.tsv', sep='\\t', index=False)"
   ]
  }
 ]
}