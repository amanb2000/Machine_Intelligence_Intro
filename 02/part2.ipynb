{
 "metadata": {
  "language_info": {
   "codemirror_mode": {
    "name": "ipython",
    "version": 3
   },
   "file_extension": ".py",
   "mimetype": "text/x-python",
   "name": "python",
   "nbconvert_exporter": "python",
   "pygments_lexer": "ipython3",
   "version": 3
  },
  "orig_nbformat": 2
 },
 "nbformat": 4,
 "nbformat_minor": 2,
 "cells": [
  {
   "source": [
    "# ECE324: Assignment 2, Part II\n",
    "\n",
    "## Steps\n",
    "\n",
    "- [ ] Import torch.\n",
    "- [ ] Re-use data import code.\n",
    "- [ ] Implement a 1-neuron classifier.\n",
    "    - [ ] \n"
   ],
   "cell_type": "markdown",
   "metadata": {}
  },
  {
   "cell_type": "code",
   "execution_count": null,
   "metadata": {},
   "outputs": [],
   "source": [
    "##############\n",
    "# IMPORT BOX #\n",
    "##############\n",
    "\n",
    "import numpy as np\n",
    "import matplotlib.pyplot as plt \n",
    "import torch\n",
    "\n",
    "import pandas as pd\n",
    "\n",
    "from dispkernel import *"
   ]
  }
 ]
}