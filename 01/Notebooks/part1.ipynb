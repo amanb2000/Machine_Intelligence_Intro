{
 "cells": [
  {
   "cell_type": "markdown",
   "metadata": {},
   "source": [
    "# ECE324 Assignment 1 Part 1\n",
    "\n",
    "## Tasks\n",
    "\n",
    "- [x] Load `matrix.csv` file into a NumPy array called `matrix` using `numpy.loadtxt`.\n",
    "- [x] Load `vector.npy` -> `vector` using `numpy.load`.\n",
    "- [x] Perform `output = matrix x vector` using loops to iterate through columns and rows.\n",
    "    - [x] Save output variable to `output_forloop.csv` using `numpy.savetxt`.\n",
    "- [x] Perform `output = matrix x vector` using NumPy's `numpy.dot`.\n",
    "    - [x] Save as `output_dot.npy` using `numpy.save`\n",
    "- [x] Compute difference between `output` and `output_2`, save it to CSV called `output_difference.csv`.\n",
    "- [x] Answer the __question__ below.\n",
    "\n",
    "## Question\n",
    "\n",
    "_Question: IF the two files you compared above are the same, does it prove that your code is correct? Explain._\n",
    "\n",
    "_Answer:_ Strong similarity give a good hint that the code is *probably* correct, but it by no means proves it. I may, for instance, have made a mistake in the way was assigning values during my computation resulting in the copying of a an incorrect result to both files. As well, the files are saved differently (CSV vs. npy) -- depending on what 'comparison' and 'the same' mean, I may arrive at an incorrect conclusion. If I were to examine the contents of the files in an intelligent fashion and take into account the fact that the floating point arithmetic may result in slightly different results, then I could get a decent sense of the correctness. At no point, however, would I be able to 'prove' the correctness of my code through any observation of the output."
   ]
  },
  {
   "cell_type": "code",
   "execution_count": 43,
   "metadata": {},
   "outputs": [],
   "source": [
    "##############\n",
    "# Import Box #\n",
    "##############\n",
    "\n",
    "import numpy as np"
   ]
  },
  {
   "cell_type": "code",
   "execution_count": 44,
   "metadata": {},
   "outputs": [
    {
     "name": "stdout",
     "output_type": "stream",
     "text": [
      "[[10]\n",
      " [20]\n",
      " [15]]\n"
     ]
    },
    {
     "data": {
      "text/plain": [
       "array([[1., 2., 3.],\n",
       "       [4., 5., 6.],\n",
       "       [7., 8., 9.]])"
      ]
     },
     "execution_count": 44,
     "metadata": {},
     "output_type": "execute_result"
    }
   ],
   "source": [
    "################\n",
    "# Loading Data #\n",
    "################\n",
    "\n",
    "matrix = np.loadtxt('../Resources/matrix.csv', delimiter=',')\n",
    "vector = np.load('../Resources/vector.npy')\n",
    "\n",
    "print(vector)\n",
    "matrix"
   ]
  },
  {
   "cell_type": "code",
   "execution_count": 45,
   "metadata": {},
   "outputs": [
    {
     "data": {
      "text/plain": [
       "array([[ 95.],\n",
       "       [230.],\n",
       "       [365.]])"
      ]
     },
     "execution_count": 45,
     "metadata": {},
     "output_type": "execute_result"
    }
   ],
   "source": [
    "#################################\n",
    "# Manual Looping Implementation #\n",
    "#################################\n",
    "\n",
    "output = np.zeros( (len(vector), 1) )\n",
    "\n",
    "for i in range(len(matrix)):\n",
    "    for j in range(len(matrix[i])):\n",
    "        output[i][0] += matrix[i][j] * vector[j]\n",
    "        \n",
    "output"
   ]
  },
  {
   "cell_type": "code",
   "execution_count": 46,
   "metadata": {},
   "outputs": [],
   "source": [
    "#########################################\n",
    "# Outputting Manually Calculated Vector #\n",
    "#########################################\n",
    "\n",
    "np.savetxt('output_forloop.csv', output)"
   ]
  },
  {
   "cell_type": "code",
   "execution_count": 47,
   "metadata": {},
   "outputs": [
    {
     "data": {
      "text/plain": [
       "array([[ 95.],\n",
       "       [230.],\n",
       "       [365.]])"
      ]
     },
     "execution_count": 47,
     "metadata": {},
     "output_type": "execute_result"
    }
   ],
   "source": [
    "###########################\n",
    "# Numpy-Based Calculation #\n",
    "###########################\n",
    "\n",
    "output_2 = np.dot(matrix, vector)\n",
    "\n",
    "output_2"
   ]
  },
  {
   "cell_type": "code",
   "execution_count": 48,
   "metadata": {},
   "outputs": [],
   "source": [
    "######################################\n",
    "# Outputting Numpy-Based Calculation #\n",
    "######################################\n",
    "\n",
    "np.save('output_dot.npy', output_2)"
   ]
  },
  {
   "cell_type": "code",
   "execution_count": 49,
   "metadata": {},
   "outputs": [],
   "source": [
    "#########################\n",
    "# Outputting Difference #\n",
    "#########################\n",
    "\n",
    "np.savetxt('output_difference.csv', output_2 - output)"
   ]
  },
  {
   "cell_type": "code",
   "execution_count": null,
   "metadata": {},
   "outputs": [],
   "source": []
  }
 ],
 "metadata": {
  "kernelspec": {
   "display_name": "Python 3",
   "language": "python",
   "name": "python3"
  },
  "language_info": {
   "codemirror_mode": {
    "name": "ipython",
    "version": 3
   },
   "file_extension": ".py",
   "mimetype": "text/x-python",
   "name": "python",
   "nbconvert_exporter": "python",
   "pygments_lexer": "ipython3",
   "version": "3.8.3"
  }
 },
 "nbformat": 4,
 "nbformat_minor": 2
}
