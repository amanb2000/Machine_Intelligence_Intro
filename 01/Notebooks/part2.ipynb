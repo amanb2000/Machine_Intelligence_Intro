{
 "cells": [
  {
   "source": [
    "# ECE324 Assignment 1 Part 2\n",
    "\n",
    "_Aman Bhargava_\n",
    "\n",
    "## Tasks\n",
    "\n",
    "- [x] Create callable object class `ElementwiseMultiply`.\n",
    "- [x] Create `AddBias` class.\n",
    "    - `input` can be a numpy array. \n",
    "    - `bias` is a scalar.\n",
    "    - Bias is added to every element of `input` and returned (can use built in numpy-scalar addition method).\n",
    "- [x] Create `LeakyRelu` class.\n",
    "    - f(x) = {x if x >= 0; alpha*x if x < 0}\n",
    "    - Use `numpy.where` to accomplish this without using for loops.\n",
    "- [x] Create a `Compose` callable object class.\n",
    "    - Initialization parameter: `layers`, list of callable objects that take 1 param each.\n",
    "    - Run the input to `Compose` through each `layer` in `layers` -> return the resultant output.\n",
    "- [x] Copy into `part2_test.ipynb`. Question: __What is the output in the ternal__?\n",
    "\n",
    "## Notes\n",
    "\n",
    "* Functions must accept both Python `ints` and `floats` AND NumPy `arrays` of arbitrary dimensions as inputs.\n",
    "\n",
    "## Questions and Answers\n",
    "\n",
    "__Question: What is the output in the terminal from `part2_test.ipynb`__?\n",
    "\n",
    "__Answer:__ \n",
    "```\n",
    "Input:  [ 10   5  -5 -10]\n",
    "Output: [-1.5 -2.8  1.6 12.8]\n",
    "```\n"
   ],
   "cell_type": "markdown",
   "metadata": {}
  },
  {
   "cell_type": "code",
   "execution_count": 8,
   "metadata": {},
   "outputs": [],
   "source": [
    "import numpy as np"
   ]
  },
  {
   "cell_type": "code",
   "execution_count": 9,
   "metadata": {},
   "outputs": [],
   "source": [
    "class ElementwiseMultiply(object):\n",
    "    def __init__(self, weight):\n",
    "        self.weight = weight\n",
    "    \n",
    "    def __call__(self, inp):\n",
    "        return np.multiply(self.weight, inp)"
   ]
  },
  {
   "cell_type": "code",
   "execution_count": 10,
   "metadata": {},
   "outputs": [],
   "source": [
    "class AddBias(object):\n",
    "    def __init__(self, bias):\n",
    "        self.bias = bias\n",
    "        \n",
    "    def __call__(self, inp):\n",
    "        return inp + self.bias\n"
   ]
  },
  {
   "cell_type": "code",
   "execution_count": 11,
   "metadata": {},
   "outputs": [],
   "source": [
    "class LeakyRelu(object):\n",
    "    def __init__(self, alpha):\n",
    "        self.alpha = alpha\n",
    "        \n",
    "    def __call__(self, x):\n",
    "        return np.where(x >= 0, x, self.alpha*x)\n",
    "    "
   ]
  },
  {
   "cell_type": "code",
   "execution_count": 12,
   "metadata": {},
   "outputs": [
    {
     "data": {
      "text/plain": [
       "array([-3, -6,  1,  2,  3,  4,  5,  5])"
      ]
     },
     "execution_count": 12,
     "metadata": {},
     "output_type": "execute_result"
    }
   ],
   "source": [
    "class Compose(object):\n",
    "    def __init__(self, layers):\n",
    "        self.layers = layers\n",
    "        \n",
    "    def __call__(self, inp):\n",
    "        retval = inp\n",
    "        \n",
    "        for layer in self.layers:\n",
    "            retval = layer(retval)\n",
    "            \n",
    "        return retval"
   ]
  },
  {
   "cell_type": "code",
   "execution_count": null,
   "metadata": {},
   "outputs": [],
   "source": []
  }
 ],
 "metadata": {
  "kernelspec": {
   "display_name": "Python 3",
   "language": "python",
   "name": "python3"
  },
  "language_info": {
   "codemirror_mode": {
    "name": "ipython",
    "version": 3
   },
   "file_extension": ".py",
   "mimetype": "text/x-python",
   "name": "python",
   "nbconvert_exporter": "python",
   "pygments_lexer": "ipython3",
   "version": "3.8.3"
  }
 },
 "nbformat": 4,
 "nbformat_minor": 4
}