{
 "cells": [
  {
   "cell_type": "code",
   "execution_count": null,
   "metadata": {},
   "outputs": [],
   "source": [
    "# Copy your code for Part 2 into the cell below \n",
    "# Then 'run' it and the code below to test your code."
   ]
  },
  {
   "cell_type": "code",
   "execution_count": 5,
   "metadata": {},
   "outputs": [],
   "source": [
    "import numpy as np\n",
    "\n",
    "class ElementwiseMultiply(object):\n",
    "    def __init__(self, weight):\n",
    "        self.weight = weight\n",
    "    \n",
    "    def __call__(self, inp):\n",
    "        if inp.shape != self.weight.shape:\n",
    "            return\n",
    "        \n",
    "        return np.multiply(self.weight, inp)    \n",
    "    \n",
    "class AddBias(object):\n",
    "    def __init__(self, bias):\n",
    "        self.bias = bias\n",
    "        \n",
    "    def __call__(self, inp):\n",
    "        return inp + self.bias\n",
    "\n",
    "class LeakyRelu(object):\n",
    "    def __init__(self, alpha):\n",
    "        self.alpha = alpha\n",
    "        \n",
    "    def __call__(self, x):\n",
    "        return np.where(x >= 0, x, self.alpha*x)\n",
    "\n",
    "class Compose(object):\n",
    "    def __init__(self, layers):\n",
    "        self.layers = layers\n",
    "        \n",
    "    def __call__(self, inp):\n",
    "        retval = inp\n",
    "        \n",
    "        for layer in self.layers:\n",
    "            retval = layer(retval)\n",
    "            \n",
    "        return retval"
   ]
  },
  {
   "cell_type": "code",
   "execution_count": 6,
   "metadata": {},
   "outputs": [
    {
     "name": "stdout",
     "output_type": "stream",
     "text": [
      "Input:  [ 10   5  -5 -10]\n",
      "Output: [-1.5 -2.8  1.6 12.8]\n"
     ]
    }
   ],
   "source": [
    "\n",
    "weight_1 = np.array([1, 2, 3, 4])\n",
    "weight_2 = np.array([-1, -2, -3, -4])\n",
    "bias_1 = 3\n",
    "bias_2 = -2\n",
    "alpha = 0.1\n",
    "input = np.array([10, 5, -5, -10])\n",
    "print(\"Input: \", input)\n",
    "\n",
    "elem_mult_1 = ElementwiseMultiply(weight_1)\n",
    "add_bias_1 = AddBias(bias_1)\n",
    "leaky_relu = LeakyRelu(alpha)\n",
    "elem_mult_2 = ElementwiseMultiply(weight_2)\n",
    "add_bias_2 = AddBias(bias_2)\n",
    "layers = Compose([elem_mult_1, add_bias_1, leaky_relu, elem_mult_2, add_bias_2, leaky_relu])\n",
    "output = layers(input)\n",
    "\n",
    "print(\"Output:\", output)\n"
   ]
  },
  {
   "cell_type": "code",
   "execution_count": null,
   "metadata": {},
   "outputs": [],
   "source": []
  }
 ],
 "metadata": {
  "kernelspec": {
   "display_name": "Python 3",
   "language": "python",
   "name": "python3"
  },
  "language_info": {
   "codemirror_mode": {
    "name": "ipython",
    "version": 3
   },
   "file_extension": ".py",
   "mimetype": "text/x-python",
   "name": "python",
   "nbconvert_exporter": "python",
   "pygments_lexer": "ipython3",
   "version": "3.8.3"
  }
 },
 "nbformat": 4,
 "nbformat_minor": 4
}
