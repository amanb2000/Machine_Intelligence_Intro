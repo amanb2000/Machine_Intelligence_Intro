{
 "cells": [
  {
   "cell_type": "code",
   "execution_count": null,
   "metadata": {},
   "outputs": [],
   "source": [
    "# Copy your code for Part 2 into the cell below \n",
    "# Then 'run' it and the code below to test your code."
   ]
  },
  {
   "cell_type": "code",
   "execution_count": null,
   "metadata": {},
   "outputs": [],
   "source": []
  },
  {
   "cell_type": "code",
   "execution_count": null,
   "metadata": {},
   "outputs": [],
   "source": [
    "\n",
    "weight_1 = np.array([1, 2, 3, 4])\n",
    "weight_2 = np.array([-1, -2, -3, -4])\n",
    "bias_1 = 3\n",
    "bias_2 = -2\n",
    "alpha = 0.1\n",
    "input = np.array([10, 5, -5, -10])\n",
    "print(\"Input: \", input)\n",
    "\n",
    "elem_mult_1 = ElementwiseMultiply(weight_1)\n",
    "add_bias_1 = AddBias(bias_1)\n",
    "leaky_relu = LeakyRelu(alpha)\n",
    "elem_mult_2 = ElementwiseMultiply(weight_2)\n",
    "add_bias_2 = AddBias(bias_2)\n",
    "layers = Compose([elem_mult_1, add_bias_1, leaky_relu, elem_mult_2, add_bias_2, leaky_relu])\n",
    "output = layers(input)\n",
    "\n",
    "print(\"Output:\", output)\n"
   ]
  }
 ],
 "metadata": {
  "kernelspec": {
   "display_name": "Python 3",
   "language": "python",
   "name": "python3"
  },
  "language_info": {
   "codemirror_mode": {
    "name": "ipython",
    "version": 3
   },
   "file_extension": ".py",
   "mimetype": "text/x-python",
   "name": "python",
   "nbconvert_exporter": "python",
   "pygments_lexer": "ipython3",
   "version": "3.8.3"
  }
 },
 "nbformat": 4,
 "nbformat_minor": 4
}
