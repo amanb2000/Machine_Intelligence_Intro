{
  "cells": [
    {
      "cell_type": "markdown",
      "source": [
        "# ECE324: Assignment 3\n",
        "\n",
        "Aman Bhargava\n",
        "1005189733"
      ],
      "metadata": {}
    },
    {
      "cell_type": "code",
      "source": [
        "##############\n",
        "# IMPORT BOX #\n",
        "##############\n",
        "import numpy as np \n",
        "import pandas as pd\n",
        "import matplotlib.pyplot as plt\n",
        "import torch\n",
        "import torch.nn as nn"
      ],
      "outputs": [],
      "execution_count": 3,
      "metadata": {
        "execution": {
          "shell.execute_reply": "2020-10-14T03:12:59.307Z",
          "iopub.status.busy": "2020-10-14T03:12:59.292Z",
          "iopub.execute_input": "2020-10-14T03:12:59.295Z",
          "iopub.status.idle": "2020-10-14T03:12:59.304Z"
        }
      }
    },
    {
      "cell_type": "markdown",
      "source": [
        "### 3.1: Initial Data Tasks:\n",
        "- [x] Take a gander at `adult.csv`.\n",
        "- [x] Use `pd.read_csv()` to read the `adult.csv` data into `data`."
      ],
      "metadata": {
        "nteract": {
          "transient": {
            "deleting": false
          }
        }
      }
    },
    {
      "cell_type": "code",
      "source": [
        "data = pd.read_csv('data/adult.csv')"
      ],
      "outputs": [],
      "execution_count": 4,
      "metadata": {
        "collapsed": true,
        "jupyter": {
          "source_hidden": false,
          "outputs_hidden": false
        },
        "nteract": {
          "transient": {
            "deleting": false
          }
        },
        "execution": {
          "iopub.status.busy": "2020-10-14T03:13:05.071Z",
          "iopub.execute_input": "2020-10-14T03:13:05.075Z",
          "iopub.status.idle": "2020-10-14T03:13:05.083Z",
          "shell.execute_reply": "2020-10-14T03:13:05.087Z"
        }
      }
    },
    {
      "cell_type": "markdown",
      "source": [
        "### 3.2: Sanity Checks:\n",
        "- [x] Print the `.shape` field of the dataframe.\n",
        "- [x] Print the `.columns` field of the dataframe (column names).\n",
        "- [x] Print the `.head()` of the dataframe.\n",
        "- [x] Use the `data['income'].value_counts()` to determine the number of high and low income earners."
      ],
      "metadata": {
        "nteract": {
          "transient": {
            "deleting": false
          }
        }
      }
    },
    {
      "cell_type": "code",
      "source": [
        "print('Shape of dataframe: {}'.format(data.shape))\n",
        "print('Columns of dataframe: {}'.format(data.columns))\n",
        "print('Number of high and low-income individuals:')\n",
        "data['income'].value_counts()"
      ],
      "outputs": [
        {
          "output_type": "stream",
          "name": "stdout",
          "text": [
            "Shape of dataframe: (48842, 15)\nColumns of dataframe: Index(['age', 'workclass', 'fnlwgt', 'education', 'educational-num',\n       'marital-status', 'occupation', 'relationship', 'race', 'gender',\n       'capital-gain', 'capital-loss', 'hours-per-week', 'native-country',\n       'income'],\n      dtype='object')\nNumber of high and low-income individuals:\n"
          ]
        },
        {
          "output_type": "execute_result",
          "data": {
            "text/plain": [
              "<=50K    37155\n",
              ">50K     11687\n",
              "Name: income, dtype: int64"
            ]
          },
          "metadata": {},
          "execution_count": 9
        }
      ],
      "execution_count": 9,
      "metadata": {
        "collapsed": true,
        "jupyter": {
          "source_hidden": false,
          "outputs_hidden": false
        },
        "nteract": {
          "transient": {
            "deleting": false
          }
        }
      }
    },
    {
      "cell_type": "code",
      "source": [
        "print('Head of dataframe:')\n",
        "data.head()"
      ],
      "outputs": [
        {
          "output_type": "stream",
          "name": "stdout",
          "text": [
            "Head of dataframe:\n"
          ]
        },
        {
          "output_type": "execute_result",
          "data": {
            "text/plain": [
              "   age  workclass  fnlwgt     education  educational-num      marital-status  \\\n",
              "0   25    Private  226802          11th                7       Never-married   \n",
              "1   38    Private   89814       HS-grad                9  Married-civ-spouse   \n",
              "2   28  Local-gov  336951    Assoc-acdm               12  Married-civ-spouse   \n",
              "3   44    Private  160323  Some-college               10  Married-civ-spouse   \n",
              "4   18          ?  103497  Some-college               10       Never-married   \n",
              "\n",
              "          occupation relationship   race  gender  capital-gain  capital-loss  \\\n",
              "0  Machine-op-inspct    Own-child  Black    Male             0             0   \n",
              "1    Farming-fishing      Husband  White    Male             0             0   \n",
              "2    Protective-serv      Husband  White    Male             0             0   \n",
              "3  Machine-op-inspct      Husband  Black    Male          7688             0   \n",
              "4                  ?    Own-child  White  Female             0             0   \n",
              "\n",
              "   hours-per-week native-country income  \n",
              "0              40  United-States  <=50K  \n",
              "1              50  United-States  <=50K  \n",
              "2              40  United-States   >50K  \n",
              "3              40  United-States   >50K  \n",
              "4              30  United-States  <=50K  "
            ],
            "text/html": "<div>\n<style scoped>\n    .dataframe tbody tr th:only-of-type {\n        vertical-align: middle;\n    }\n\n    .dataframe tbody tr th {\n        vertical-align: top;\n    }\n\n    .dataframe thead th {\n        text-align: right;\n    }\n</style>\n<table border=\"1\" class=\"dataframe\">\n  <thead>\n    <tr style=\"text-align: right;\">\n      <th></th>\n      <th>age</th>\n      <th>workclass</th>\n      <th>fnlwgt</th>\n      <th>education</th>\n      <th>educational-num</th>\n      <th>marital-status</th>\n      <th>occupation</th>\n      <th>relationship</th>\n      <th>race</th>\n      <th>gender</th>\n      <th>capital-gain</th>\n      <th>capital-loss</th>\n      <th>hours-per-week</th>\n      <th>native-country</th>\n      <th>income</th>\n    </tr>\n  </thead>\n  <tbody>\n    <tr>\n      <th>0</th>\n      <td>25</td>\n      <td>Private</td>\n      <td>226802</td>\n      <td>11th</td>\n      <td>7</td>\n      <td>Never-married</td>\n      <td>Machine-op-inspct</td>\n      <td>Own-child</td>\n      <td>Black</td>\n      <td>Male</td>\n      <td>0</td>\n      <td>0</td>\n      <td>40</td>\n      <td>United-States</td>\n      <td>&lt;=50K</td>\n    </tr>\n    <tr>\n      <th>1</th>\n      <td>38</td>\n      <td>Private</td>\n      <td>89814</td>\n      <td>HS-grad</td>\n      <td>9</td>\n      <td>Married-civ-spouse</td>\n      <td>Farming-fishing</td>\n      <td>Husband</td>\n      <td>White</td>\n      <td>Male</td>\n      <td>0</td>\n      <td>0</td>\n      <td>50</td>\n      <td>United-States</td>\n      <td>&lt;=50K</td>\n    </tr>\n    <tr>\n      <th>2</th>\n      <td>28</td>\n      <td>Local-gov</td>\n      <td>336951</td>\n      <td>Assoc-acdm</td>\n      <td>12</td>\n      <td>Married-civ-spouse</td>\n      <td>Protective-serv</td>\n      <td>Husband</td>\n      <td>White</td>\n      <td>Male</td>\n      <td>0</td>\n      <td>0</td>\n      <td>40</td>\n      <td>United-States</td>\n      <td>&gt;50K</td>\n    </tr>\n    <tr>\n      <th>3</th>\n      <td>44</td>\n      <td>Private</td>\n      <td>160323</td>\n      <td>Some-college</td>\n      <td>10</td>\n      <td>Married-civ-spouse</td>\n      <td>Machine-op-inspct</td>\n      <td>Husband</td>\n      <td>Black</td>\n      <td>Male</td>\n      <td>7688</td>\n      <td>0</td>\n      <td>40</td>\n      <td>United-States</td>\n      <td>&gt;50K</td>\n    </tr>\n    <tr>\n      <th>4</th>\n      <td>18</td>\n      <td>?</td>\n      <td>103497</td>\n      <td>Some-college</td>\n      <td>10</td>\n      <td>Never-married</td>\n      <td>?</td>\n      <td>Own-child</td>\n      <td>White</td>\n      <td>Female</td>\n      <td>0</td>\n      <td>0</td>\n      <td>30</td>\n      <td>United-States</td>\n      <td>&lt;=50K</td>\n    </tr>\n  </tbody>\n</table>\n</div>"
          },
          "metadata": {},
          "execution_count": 8
        }
      ],
      "execution_count": 8,
      "metadata": {
        "collapsed": true,
        "jupyter": {
          "source_hidden": false,
          "outputs_hidden": false
        },
        "nteract": {
          "transient": {
            "deleting": false
          }
        }
      }
    },
    {
      "source": [
        "### 3.3: Cleaning:\n",
        "- [x] Missing values are indicated by the \"?\" string. Figure out **how many missing values** there are.\n",
        "    - [x] Do this by iterating over the columns and use the `.isin(\"?\").sum()` function.\n",
        "- [x] Remove any row that has ≥1 \"?\" value. Use `[data[data[column != value]]]`\n",
        "- [x] Print out the shape of the dataset."
      ],
      "cell_type": "markdown",
      "metadata": {}
    },
    {
      "cell_type": "code",
      "execution_count": 21,
      "metadata": {},
      "outputs": [
        {
          "output_type": "stream",
          "name": "stdout",
          "text": [
            "The number of question marks is: 6465\n"
          ]
        }
      ],
      "source": [
        "num_question_marks = 0\n",
        "for column in data.columns: \n",
        "    num_question_marks += data.isin({column: [\"?\"]}).sum().sum()\n",
        "\n",
        "print(\"The number of question marks is: {}\".format(num_question_marks))"
      ]
    },
    {
      "cell_type": "code",
      "execution_count": 23,
      "metadata": {},
      "outputs": [],
      "source": [
        "for column in data.columns:\n",
        "    data = data[data[column] != \"?\"]"
      ]
    },
    {
      "cell_type": "code",
      "execution_count": 24,
      "metadata": {},
      "outputs": [
        {
          "output_type": "stream",
          "name": "stdout",
          "text": [
            "The new shape of the cleaned data is: (45222, 15)\n"
          ]
        }
      ],
      "source": [
        "print(\"The new shape of the cleaned data is: {}\".format(data.shape))"
      ]
    },
    {
      "source": [
        "### 3.4: Balancing the Dataset\n",
        "- [x] Use `DataFrame.sample` function to balance the dataset. \n",
        "    - [x] Use the `random_state` argument to ensure same results each time."
      ],
      "cell_type": "markdown",
      "metadata": {}
    },
    {
      "cell_type": "code",
      "execution_count": 30,
      "metadata": {},
      "outputs": [
        {
          "output_type": "execute_result",
          "data": {
            "text/plain": [
              ">50K     11208\n",
              "<=50K    11208\n",
              "Name: income, dtype: int64"
            ]
          },
          "metadata": {},
          "execution_count": 30
        }
      ],
      "source": [
        "num_from_each = min(data['income'].value_counts())\n",
        "random_seed = 314\n",
        "\n",
        "high_income_set = data[data['income'] == \">50K\"].sample(n=num_from_each, random_state=random_seed)\n",
        "low_income_set = data[data['income'] == \"<=50K\"].sample(n=num_from_each, random_state=random_seed)\n",
        "\n",
        "data = pd.concat([high_income_set, low_income_set])\n",
        "data['income'].value_counts()"
      ]
    },
    {
      "source": [
        "### 3.5: Visualization and Understanding\n",
        "- [ ] Use the `.describe()` function in the DataFrame class to determine statistics on data.\n",
        "- [ ] Use `verbose_print` method. Ensure the following information is there.\n",
        "    - [ ] Count (number of samples with non-null values)\n",
        "    - [ ] Mean\n",
        "    - [ ] Standard deviation\n",
        "    - [ ] Minimum\n",
        "    - [ ] Lowest 25% of the field.\n",
        "- [ ] Print the number of times each value of the **categorical** features occur in the dataset.\n",
        "    - [ ] Use `pie_chart` from `util.py` to visualize the first 3 categorical features using pie charts.\n",
        "    - [ ] Include these plots in your final report.\n",
        "- [ ] Use the `binary_bar_chart` method to plot the binary bar graph for the first 3 categorical features.\n",
        "    - [ ] Include charts in the report."
      ],
      "cell_type": "markdown",
      "metadata": {}
    },
    {
      "cell_type": "code",
      "execution_count": 31,
      "metadata": {},
      "outputs": [
        {
          "output_type": "execute_result",
          "data": {
            "text/plain": [
              "                age        fnlwgt  educational-num  capital-gain  \\\n",
              "count  22416.000000  2.241600e+04     22416.000000  22416.000000   \n",
              "mean      40.475107  1.891181e+05        10.605327   2066.442853   \n",
              "std       12.638850  1.045542e+05         2.593419  10532.908953   \n",
              "min       17.000000  1.376900e+04         1.000000      0.000000   \n",
              "25%       31.000000  1.179062e+05         9.000000      0.000000   \n",
              "50%       40.000000  1.778580e+05        10.000000      0.000000   \n",
              "75%       49.000000  2.364150e+05        13.000000      0.000000   \n",
              "max       90.000000  1.484705e+06        16.000000  99999.000000   \n",
              "\n",
              "       capital-loss  hours-per-week  \n",
              "count  22416.000000    22416.000000  \n",
              "mean     122.727159       42.624019  \n",
              "std      475.851448       11.856295  \n",
              "min        0.000000        1.000000  \n",
              "25%        0.000000       40.000000  \n",
              "50%        0.000000       40.000000  \n",
              "75%        0.000000       50.000000  \n",
              "max     3683.000000       99.000000  "
            ],
            "text/html": "<div>\n<style scoped>\n    .dataframe tbody tr th:only-of-type {\n        vertical-align: middle;\n    }\n\n    .dataframe tbody tr th {\n        vertical-align: top;\n    }\n\n    .dataframe thead th {\n        text-align: right;\n    }\n</style>\n<table border=\"1\" class=\"dataframe\">\n  <thead>\n    <tr style=\"text-align: right;\">\n      <th></th>\n      <th>age</th>\n      <th>fnlwgt</th>\n      <th>educational-num</th>\n      <th>capital-gain</th>\n      <th>capital-loss</th>\n      <th>hours-per-week</th>\n    </tr>\n  </thead>\n  <tbody>\n    <tr>\n      <th>count</th>\n      <td>22416.000000</td>\n      <td>2.241600e+04</td>\n      <td>22416.000000</td>\n      <td>22416.000000</td>\n      <td>22416.000000</td>\n      <td>22416.000000</td>\n    </tr>\n    <tr>\n      <th>mean</th>\n      <td>40.475107</td>\n      <td>1.891181e+05</td>\n      <td>10.605327</td>\n      <td>2066.442853</td>\n      <td>122.727159</td>\n      <td>42.624019</td>\n    </tr>\n    <tr>\n      <th>std</th>\n      <td>12.638850</td>\n      <td>1.045542e+05</td>\n      <td>2.593419</td>\n      <td>10532.908953</td>\n      <td>475.851448</td>\n      <td>11.856295</td>\n    </tr>\n    <tr>\n      <th>min</th>\n      <td>17.000000</td>\n      <td>1.376900e+04</td>\n      <td>1.000000</td>\n      <td>0.000000</td>\n      <td>0.000000</td>\n      <td>1.000000</td>\n    </tr>\n    <tr>\n      <th>25%</th>\n      <td>31.000000</td>\n      <td>1.179062e+05</td>\n      <td>9.000000</td>\n      <td>0.000000</td>\n      <td>0.000000</td>\n      <td>40.000000</td>\n    </tr>\n    <tr>\n      <th>50%</th>\n      <td>40.000000</td>\n      <td>1.778580e+05</td>\n      <td>10.000000</td>\n      <td>0.000000</td>\n      <td>0.000000</td>\n      <td>40.000000</td>\n    </tr>\n    <tr>\n      <th>75%</th>\n      <td>49.000000</td>\n      <td>2.364150e+05</td>\n      <td>13.000000</td>\n      <td>0.000000</td>\n      <td>0.000000</td>\n      <td>50.000000</td>\n    </tr>\n    <tr>\n      <th>max</th>\n      <td>90.000000</td>\n      <td>1.484705e+06</td>\n      <td>16.000000</td>\n      <td>99999.000000</td>\n      <td>3683.000000</td>\n      <td>99.000000</td>\n    </tr>\n  </tbody>\n</table>\n</div>"
          },
          "metadata": {},
          "execution_count": 31
        }
      ],
      "source": [
        "data.describe()"
      ]
    },
    {
      "cell_type": "code",
      "execution_count": null,
      "metadata": {},
      "outputs": [],
      "source": []
    }
  ],
  "metadata": {
    "language_info": {
      "name": "python",
      "version": "3.8.3-final",
      "mimetype": "text/x-python",
      "codemirror_mode": {
        "name": "ipython",
        "version": 3
      },
      "pygments_lexer": "ipython3",
      "nbconvert_exporter": "python",
      "file_extension": ".py"
    },
    "orig_nbformat": 2,
    "kernelspec": {
      "name": "Python 3.8.3 64-bit ('base': conda)",
      "display_name": "Python 3.8.3 64-bit ('base': conda)",
      "metadata": {
        "interpreter": {
          "hash": "058e3987cdc23ca73703d754270b8ab188760f883a6d01bf232b44b78a59e767"
        }
      }
    },
    "nteract": {
      "version": "0.25.1"
    }
  },
  "nbformat": 4,
  "nbformat_minor": 2
}